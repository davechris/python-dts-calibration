{
 "cells": [
  {
   "cell_type": "markdown",
   "metadata": {},
   "source": [
    "# 12. Creating a DataStore from numpy arrays\n",
    "The goal of this notebook is to demonstrate how to create a `DataStore` from scratch. This can be useful if your device is not supported or if you would like to integrate the `dtscalibration` library in your current routine."
   ]
  },
  {
   "cell_type": "code",
   "execution_count": 1,
   "metadata": {
    "execution": {
     "iopub.execute_input": "2022-04-06T08:11:05.700886Z",
     "iopub.status.busy": "2022-04-06T08:11:05.700153Z",
     "iopub.status.idle": "2022-04-06T08:11:07.170523Z",
     "shell.execute_reply": "2022-04-06T08:11:07.169990Z"
    }
   },
   "outputs": [],
   "source": [
    "import numpy as np\n",
    "import os\n",
    "import matplotlib.pyplot as plt\n",
    "import xarray as xr\n",
    "\n",
    "from dtscalibration import DataStore, read_silixa_files"
   ]
  },
  {
   "cell_type": "markdown",
   "metadata": {},
   "source": [
    "For a `DataStore` object, a few things are needed:\n",
    "\n",
    "- timestamps\n",
    "\n",
    "- Stokes signal\n",
    "\n",
    "- anti-Stokes signal\n",
    "\n",
    "- x (length along fiber)\n",
    "\n",
    "Let's grab the data from an existing silixa dataset:"
   ]
  },
  {
   "cell_type": "code",
   "execution_count": 2,
   "metadata": {
    "execution": {
     "iopub.execute_input": "2022-04-06T08:11:07.173171Z",
     "iopub.status.busy": "2022-04-06T08:11:07.172928Z",
     "iopub.status.idle": "2022-04-06T08:11:07.369257Z",
     "shell.execute_reply": "2022-04-06T08:11:07.368742Z"
    }
   },
   "outputs": [
    {
     "name": "stderr",
     "output_type": "stream",
     "text": [
      "/home/bart/git/travis_fix/python-dts-calibration/src/dtscalibration/io.py:1843: FutureWarning: Using .astype to convert from timezone-aware dtype to timezone-naive dtype is deprecated and will raise in a future version.  Use obj.tz_localize(None) or obj.tz_convert('UTC').tz_localize(None) instead\n",
      "  'time', pd.DatetimeIndex(v).tz_convert(timezone_netcdf).astype(\n"
     ]
    }
   ],
   "source": [
    "filepath = os.path.join('..', '..', 'tests', 'data', 'single_ended')\n",
    "\n",
    "ds_silixa = read_silixa_files(directory=filepath,\n",
    "                              silent=True)"
   ]
  },
  {
   "cell_type": "markdown",
   "metadata": {},
   "source": [
    "We will get all the numpy arrays from this `DataStore` to create a new one from 'scratch'.\n",
    "\n",
    "Let's start with the most basic data:"
   ]
  },
  {
   "cell_type": "code",
   "execution_count": 3,
   "metadata": {
    "execution": {
     "iopub.execute_input": "2022-04-06T08:11:07.394645Z",
     "iopub.status.busy": "2022-04-06T08:11:07.394464Z",
     "iopub.status.idle": "2022-04-06T08:11:07.398245Z",
     "shell.execute_reply": "2022-04-06T08:11:07.397718Z"
    }
   },
   "outputs": [],
   "source": [
    "x = ds_silixa.x.values\n",
    "time = ds_silixa.time.values\n",
    "ST = ds_silixa.st.values\n",
    "AST = ds_silixa.ast.values"
   ]
  },
  {
   "cell_type": "markdown",
   "metadata": {},
   "source": [
    "Now this data has to be inserted into an xarray `Dataset`"
   ]
  },
  {
   "cell_type": "code",
   "execution_count": 4,
   "metadata": {
    "execution": {
     "iopub.execute_input": "2022-04-06T08:11:07.400661Z",
     "iopub.status.busy": "2022-04-06T08:11:07.400499Z",
     "iopub.status.idle": "2022-04-06T08:11:07.407067Z",
     "shell.execute_reply": "2022-04-06T08:11:07.406546Z"
    }
   },
   "outputs": [],
   "source": [
    "ds = xr.Dataset()\n",
    "ds['x'] = ('x', x)\n",
    "ds['time'] = ('time', time)\n",
    "ds['st'] = (['x', 'time'], ST)\n",
    "ds['ast'] = (['x', 'time'], AST)"
   ]
  },
  {
   "cell_type": "code",
   "execution_count": 5,
   "metadata": {
    "execution": {
     "iopub.execute_input": "2022-04-06T08:11:07.409666Z",
     "iopub.status.busy": "2022-04-06T08:11:07.409313Z",
     "iopub.status.idle": "2022-04-06T08:11:07.417393Z",
     "shell.execute_reply": "2022-04-06T08:11:07.416796Z"
    }
   },
   "outputs": [
    {
     "name": "stdout",
     "output_type": "stream",
     "text": [
      "<dtscalibration.DataStore>\n",
      "Sections:                  ()\n",
      "Dimensions:    (x: 1461, time: 3, trans_att: 0)\n",
      "Coordinates:\n",
      "  * x          (x) float64 -80.74 -80.62 -80.49 -80.36 ... 104.6 104.7 104.8\n",
      "  * time       (time) datetime64[ns] 2018-05-04T12:22:17.710000 ... 2018-05-0...\n",
      "  * trans_att  (trans_att) float64 \n",
      "Data variables:\n",
      "    st         (x, time) float64 -0.8058 0.4287 -0.513 ... 27.99 27.83 28.81\n",
      "    ast        (x, time) float64 -0.2459 -0.5932 0.1111 ... 36.2 35.7 35.16\n",
      "Attributes:\n",
      "    _sections:  null\\n...\\n\n"
     ]
    }
   ],
   "source": [
    "ds = DataStore(ds)\n",
    "print(ds)"
   ]
  },
  {
   "cell_type": "markdown",
   "metadata": {},
   "source": [
    "For calibration, a few more paramaters are needed:\n",
    "\n",
    "- acquisition time (for calculating residuals for WLS calibration)\n",
    "\n",
    "- reference temperatures\n",
    "\n",
    "- a double ended flag\n",
    "\n",
    "We'll put these into the custom `DataStore`:"
   ]
  },
  {
   "cell_type": "code",
   "execution_count": 6,
   "metadata": {
    "execution": {
     "iopub.execute_input": "2022-04-06T08:11:07.419863Z",
     "iopub.status.busy": "2022-04-06T08:11:07.419639Z",
     "iopub.status.idle": "2022-04-06T08:11:07.427490Z",
     "shell.execute_reply": "2022-04-06T08:11:07.426850Z"
    }
   },
   "outputs": [],
   "source": [
    "ds['acquisitiontimeFW'] = ds_silixa['acquisitiontimeFW'].values\n",
    "ds['temp1'] = ds_silixa['probe1Temperature']\n",
    "ds['temp2'] = ds_silixa['probe2Temperature']\n",
    "\n",
    "ds.attrs['isDoubleEnded'] = '0'"
   ]
  },
  {
   "cell_type": "markdown",
   "metadata": {},
   "source": [
    "Now we can calibrate the data as usual (ordinary least squares in this example)."
   ]
  },
  {
   "cell_type": "code",
   "execution_count": 7,
   "metadata": {
    "execution": {
     "iopub.execute_input": "2022-04-06T08:11:07.430326Z",
     "iopub.status.busy": "2022-04-06T08:11:07.429752Z",
     "iopub.status.idle": "2022-04-06T08:11:07.508805Z",
     "shell.execute_reply": "2022-04-06T08:11:07.508335Z"
    }
   },
   "outputs": [
    {
     "data": {
      "text/plain": [
       "[<matplotlib.lines.Line2D at 0x7f4c41b8adf0>]"
      ]
     },
     "execution_count": 7,
     "metadata": {},
     "output_type": "execute_result"
    }
   ],
   "source": [
    "ds = ds.sel(x=slice(-30, 101))\n",
    "sections = {\n",
    "            'temp1':    [slice(20, 25.5)],  # warm bath\n",
    "            'temp2':    [slice(5.5, 15.5)],  # cold bath\n",
    "            }\n",
    "ds.sections = sections\n",
    "\n",
    "ds.calibration_single_ended(method='ols')\n",
    "\n",
    "ds.isel(time=0).tmpf.plot()"
   ]
  }
 ],
 "metadata": {
  "kernelspec": {
   "display_name": "Python 3",
   "language": "python",
   "name": "python3"
  },
  "language_info": {
   "codemirror_mode": {
    "name": "ipython",
    "version": 3
   },
   "file_extension": ".py",
   "mimetype": "text/x-python",
   "name": "python",
   "nbconvert_exporter": "python",
   "pygments_lexer": "ipython3",
   "version": "3.9.11"
  }
 },
 "nbformat": 4,
 "nbformat_minor": 2
}
